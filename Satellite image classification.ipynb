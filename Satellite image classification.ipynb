{
 "cells": [
  {
   "cell_type": "markdown",
   "metadata": {},
   "source": [
    "# Satellite image classification"
   ]
  },
  {
   "cell_type": "code",
   "execution_count": 1,
   "metadata": {},
   "outputs": [],
   "source": [
    "# Importing libraries\n",
    "import numpy as np\n",
    "import pandas as pd\n",
    "import matplotlib.pyplot as plt"
   ]
  },
  {
   "cell_type": "code",
   "execution_count": 2,
   "metadata": {},
   "outputs": [],
   "source": [
    "# Reading datasets\n",
    "X_train = pd.read_csv('./data/X_train_sat4.csv',header=None)\n",
    "y_train = pd.read_csv('./data/y_train_sat4.csv',header=None)\n",
    "X_test = pd.read_csv('./data/X_test_sat4.csv', header=None, engine='python') #This one give me an error because of the format of the data, so I used the engine='python' argument \n",
    "y_test = pd.read_csv('./data/y_test_sat4.csv', header=None)"
   ]
  },
  {
   "cell_type": "code",
   "execution_count": 3,
   "metadata": {
    "scrolled": false
   },
   "outputs": [
    {
     "data": {
      "text/html": [
       "<div>\n",
       "<style scoped>\n",
       "    .dataframe tbody tr th:only-of-type {\n",
       "        vertical-align: middle;\n",
       "    }\n",
       "\n",
       "    .dataframe tbody tr th {\n",
       "        vertical-align: top;\n",
       "    }\n",
       "\n",
       "    .dataframe thead th {\n",
       "        text-align: right;\n",
       "    }\n",
       "</style>\n",
       "<table border=\"1\" class=\"dataframe\">\n",
       "  <thead>\n",
       "    <tr style=\"text-align: right;\">\n",
       "      <th></th>\n",
       "      <th>0</th>\n",
       "      <th>1</th>\n",
       "      <th>2</th>\n",
       "      <th>3</th>\n",
       "      <th>4</th>\n",
       "      <th>5</th>\n",
       "      <th>6</th>\n",
       "      <th>7</th>\n",
       "      <th>8</th>\n",
       "      <th>9</th>\n",
       "      <th>...</th>\n",
       "      <th>3126</th>\n",
       "      <th>3127</th>\n",
       "      <th>3128</th>\n",
       "      <th>3129</th>\n",
       "      <th>3130</th>\n",
       "      <th>3131</th>\n",
       "      <th>3132</th>\n",
       "      <th>3133</th>\n",
       "      <th>3134</th>\n",
       "      <th>3135</th>\n",
       "    </tr>\n",
       "  </thead>\n",
       "  <tbody>\n",
       "    <tr>\n",
       "      <th>0</th>\n",
       "      <td>104</td>\n",
       "      <td>103</td>\n",
       "      <td>94</td>\n",
       "      <td>133</td>\n",
       "      <td>114</td>\n",
       "      <td>115</td>\n",
       "      <td>106</td>\n",
       "      <td>145</td>\n",
       "      <td>104</td>\n",
       "      <td>110</td>\n",
       "      <td>...</td>\n",
       "      <td>95</td>\n",
       "      <td>141</td>\n",
       "      <td>101</td>\n",
       "      <td>103</td>\n",
       "      <td>92</td>\n",
       "      <td>138</td>\n",
       "      <td>103</td>\n",
       "      <td>110</td>\n",
       "      <td>99</td>\n",
       "      <td>148</td>\n",
       "    </tr>\n",
       "    <tr>\n",
       "      <th>1</th>\n",
       "      <td>175</td>\n",
       "      <td>149</td>\n",
       "      <td>130</td>\n",
       "      <td>146</td>\n",
       "      <td>169</td>\n",
       "      <td>148</td>\n",
       "      <td>130</td>\n",
       "      <td>141</td>\n",
       "      <td>166</td>\n",
       "      <td>139</td>\n",
       "      <td>...</td>\n",
       "      <td>119</td>\n",
       "      <td>132</td>\n",
       "      <td>137</td>\n",
       "      <td>133</td>\n",
       "      <td>121</td>\n",
       "      <td>134</td>\n",
       "      <td>134</td>\n",
       "      <td>128</td>\n",
       "      <td>119</td>\n",
       "      <td>132</td>\n",
       "    </tr>\n",
       "    <tr>\n",
       "      <th>2</th>\n",
       "      <td>113</td>\n",
       "      <td>114</td>\n",
       "      <td>105</td>\n",
       "      <td>163</td>\n",
       "      <td>126</td>\n",
       "      <td>131</td>\n",
       "      <td>125</td>\n",
       "      <td>176</td>\n",
       "      <td>119</td>\n",
       "      <td>125</td>\n",
       "      <td>...</td>\n",
       "      <td>129</td>\n",
       "      <td>177</td>\n",
       "      <td>122</td>\n",
       "      <td>126</td>\n",
       "      <td>113</td>\n",
       "      <td>172</td>\n",
       "      <td>130</td>\n",
       "      <td>136</td>\n",
       "      <td>131</td>\n",
       "      <td>181</td>\n",
       "    </tr>\n",
       "    <tr>\n",
       "      <th>3</th>\n",
       "      <td>107</td>\n",
       "      <td>104</td>\n",
       "      <td>100</td>\n",
       "      <td>124</td>\n",
       "      <td>108</td>\n",
       "      <td>105</td>\n",
       "      <td>102</td>\n",
       "      <td>126</td>\n",
       "      <td>105</td>\n",
       "      <td>104</td>\n",
       "      <td>...</td>\n",
       "      <td>74</td>\n",
       "      <td>85</td>\n",
       "      <td>74</td>\n",
       "      <td>70</td>\n",
       "      <td>63</td>\n",
       "      <td>78</td>\n",
       "      <td>83</td>\n",
       "      <td>79</td>\n",
       "      <td>73</td>\n",
       "      <td>92</td>\n",
       "    </tr>\n",
       "    <tr>\n",
       "      <th>4</th>\n",
       "      <td>105</td>\n",
       "      <td>100</td>\n",
       "      <td>95</td>\n",
       "      <td>132</td>\n",
       "      <td>77</td>\n",
       "      <td>72</td>\n",
       "      <td>62</td>\n",
       "      <td>114</td>\n",
       "      <td>76</td>\n",
       "      <td>77</td>\n",
       "      <td>...</td>\n",
       "      <td>86</td>\n",
       "      <td>129</td>\n",
       "      <td>106</td>\n",
       "      <td>100</td>\n",
       "      <td>85</td>\n",
       "      <td>128</td>\n",
       "      <td>118</td>\n",
       "      <td>109</td>\n",
       "      <td>99</td>\n",
       "      <td>130</td>\n",
       "    </tr>\n",
       "  </tbody>\n",
       "</table>\n",
       "<p>5 rows × 3136 columns</p>\n",
       "</div>"
      ],
      "text/plain": [
       "   0     1     2     3     4     5     6     7     8     9     ...  3126  \\\n",
       "0   104   103    94   133   114   115   106   145   104   110  ...    95   \n",
       "1   175   149   130   146   169   148   130   141   166   139  ...   119   \n",
       "2   113   114   105   163   126   131   125   176   119   125  ...   129   \n",
       "3   107   104   100   124   108   105   102   126   105   104  ...    74   \n",
       "4   105   100    95   132    77    72    62   114    76    77  ...    86   \n",
       "\n",
       "   3127  3128  3129  3130  3131  3132  3133  3134  3135  \n",
       "0   141   101   103    92   138   103   110    99   148  \n",
       "1   132   137   133   121   134   134   128   119   132  \n",
       "2   177   122   126   113   172   130   136   131   181  \n",
       "3    85    74    70    63    78    83    79    73    92  \n",
       "4   129   106   100    85   128   118   109    99   130  \n",
       "\n",
       "[5 rows x 3136 columns]"
      ]
     },
     "execution_count": 3,
     "metadata": {},
     "output_type": "execute_result"
    }
   ],
   "source": [
    "# View the first 5 rows\n",
    "X_train.head()"
   ]
  },
  {
   "cell_type": "markdown",
   "metadata": {},
   "source": [
    "When you used pd.read_csv function, you get a dataframe. What we need is a numpy array, so we can easy convert it by using np.array function. "
   ]
  },
  {
   "cell_type": "code",
   "execution_count": 4,
   "metadata": {},
   "outputs": [],
   "source": [
    "# Converting to numpy array and normalizing images.\n",
    "X_train = np.array(X_train)/255\n",
    "y_train = np.array(y_train)\n",
    "X_test = np.array(X_test)/255\n",
    "y_test = np.array(y_test)"
   ]
  },
  {
   "cell_type": "code",
   "execution_count": 5,
   "metadata": {},
   "outputs": [
    {
     "data": {
      "text/plain": [
       "(400000, 3136)"
      ]
     },
     "execution_count": 5,
     "metadata": {},
     "output_type": "execute_result"
    }
   ],
   "source": [
    "# Viewing the shape of the training images\n",
    "X_train.shape"
   ]
  },
  {
   "cell_type": "markdown",
   "metadata": {},
   "source": [
    "We got 400,000 images in the training set, but they have not the right shape, so we have to reshape the image data before continue."
   ]
  },
  {
   "cell_type": "code",
   "execution_count": 6,
   "metadata": {},
   "outputs": [],
   "source": [
    "# Reshaping the images\n",
    "X_train = X_train.reshape(X_train.shape[0],28,28,4).astype(float)\n",
    "X_test = X_test.reshape(X_test.shape[0],28,28,4).astype(float)"
   ]
  },
  {
   "cell_type": "code",
   "execution_count": 7,
   "metadata": {},
   "outputs": [
    {
     "data": {
      "text/plain": [
       "(400000, 28, 28, 4)"
      ]
     },
     "execution_count": 7,
     "metadata": {},
     "output_type": "execute_result"
    }
   ],
   "source": [
    "X_train.shape"
   ]
  },
  {
   "cell_type": "markdown",
   "metadata": {},
   "source": [
    "The images has the right  shape, we can save those image to avoid processing the data in the future."
   ]
  },
  {
   "cell_type": "code",
   "execution_count": 8,
   "metadata": {},
   "outputs": [],
   "source": [
    "np.save('dataset/X_train.npy',X_train)\n",
    "np.save('dataset/X_test.npy',X_test)\n",
    "np.save('dataset/y_train.npy',y_train)\n",
    "np.save('dataset/y_test.npy',y_test)"
   ]
  },
  {
   "cell_type": "code",
   "execution_count": 9,
   "metadata": {},
   "outputs": [],
   "source": [
    "X_train = np.load('dataset/X_train.npy')\n",
    "y_train = np.load('dataset/y_train.npy')\n",
    "X_test = np.load('dataset/X_test.npy')\n",
    "y_test = np.load('dataset/y_test.npy')"
   ]
  },
  {
   "cell_type": "code",
   "execution_count": 10,
   "metadata": {},
   "outputs": [
    {
     "data": {
      "image/png": "[encoded data removed]",
      "text/plain": [
       "<Figure size 1080x936 with 4 Axes>"
      ]
     },
     "metadata": {
      "needs_background": "light"
     },
     "output_type": "display_data"
    }
   ],
   "source": [
    "# Ploting some images.\n",
    "fig = plt.figure(figsize=(15, 13))\n",
    "columns = 4\n",
    "rows = 1\n",
    "ax = []\n",
    "y_names = ['barren land', 'trees', 'grassland', 'other']\n",
    "y_train_names = [y_names[i] for i in np.argmax(y_train,axis=1)]\n",
    "for i in range(columns*rows):\n",
    "    n = np.random.randint(X_train.shape[0])\n",
    "    ax.append(fig.add_subplot(rows, columns, i+1) )\n",
    "    ax[-1].set_title(y_train_names[n])\n",
    "    plt.axis('off')\n",
    "    plt.imshow(X_train[n,:,:,0:3])"
   ]
  }
 ],
 "metadata": {
  "kernelspec": {
   "display_name": "Python 3",
   "language": "python",
   "name": "python3"
  },
  "language_info": {
   "codemirror_mode": {
    "name": "ipython",
    "version": 3
   },
   "file_extension": ".py",
   "mimetype": "text/x-python",
   "name": "python",
   "nbconvert_exporter": "python",
   "pygments_lexer": "ipython3",
   "version": "3.8.5"
  }
 },
 "nbformat": 4,
 "nbformat_minor": 4
}
